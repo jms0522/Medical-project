{
 "cells": [
  {
   "cell_type": "code",
   "execution_count": 2,
   "metadata": {},
   "outputs": [
    {
     "name": "stderr",
     "output_type": "stream",
     "text": [
      "100%|██████████| 6469/6469 [54:53<00:00,  1.96it/s]  \n"
     ]
    }
   ],
   "source": [
    "import requests\n",
    "from bs4 import BeautifulSoup\n",
    "import re\n",
    "import random\n",
    "import pandas as pd\n",
    "import time\n",
    "from tqdm import tqdm     \n",
    "import json\n",
    "with open('./hidak_links.json', 'r') as f:\n",
    "    links_list = json.load(f)\n",
    "\n",
    "list1 = links_list['소아청소년과']\n",
    "\n",
    "def scrape_hidoc_data(list1):\n",
    "    head = { 'User-Agent': \"Mozilla/5.0 (Macintosh; Intel Mac OS X 10_15_7) AppleWebKit/537.36 (KHTML, like Gecko) Chrome/121.0.0.0 Safari/537.36\"}\n",
    "    \n",
    "    data = []\n",
    "    \n",
    "    for link in tqdm(list1):\n",
    "        url = f\"https://mobile.hidoc.co.kr/healthqna/part/{link}\"\n",
    "        r = requests.get(url, headers=head)\n",
    "        bs = BeautifulSoup(r.text, 'html.parser')\n",
    "\n",
    "        date_data = bs.find(\"span\", class_='date')\n",
    "        date = date_data.text\n",
    "\n",
    "        title_data = bs.select('.tit_qna')\n",
    "        pattern = r'<strong class=\"tit_qna\">\\s*(.*?)\\s*<div class=\"qna_info\">'\n",
    "\n",
    "        title_data_ = str(title_data[0])\n",
    "\n",
    "        title = re.search(pattern, title_data_)\n",
    "\n",
    "        if title:\n",
    "            title_ = title.group(1)\n",
    "        else:\n",
    "            title_ = \"매칭되는 부분이 없습니다.\"\n",
    "\n",
    "        question_data = bs.find('div', class_='desc')   \n",
    "        question = question_data.text.strip() \n",
    "\n",
    "        doctor_info = bs.find_all(\"strong\", class_='link_doctor')\n",
    "\n",
    "        doctor_list = []\n",
    "        for x in range(len(doctor_info)):\n",
    "            doctor_list.append(doctor_info[0].text)\n",
    "\n",
    "\n",
    "        doc_hospital = bs.find_all(\"span\", class_ ='txt_clinic')\n",
    "\n",
    "        hospital_list = []\n",
    "        for x in range(len(doc_hospital)):\n",
    "            hospital_list.append(doc_hospital[0].text)\n",
    "\n",
    "        a = bs.findAll(\"div\", class_ = 'desc')\n",
    "        answer = []\n",
    "        for x in range(1,len(a)):\n",
    "            answer.append(a[x].text.strip())\n",
    "\n",
    "        data.append({\n",
    "            'Date': date,\n",
    "            'Title': title_,\n",
    "            'Question': question,\n",
    "            'Doctors': doctor_list,\n",
    "            'Hospitals': hospital_list,\n",
    "            'Answers': answer\n",
    "        })\n",
    "    \n",
    "    df = pd.DataFrame(data)\n",
    "    return df\n",
    "\n",
    "\n",
    "# 함수 호출\n",
    "df = scrape_hidoc_data(list1)\n"
   ]
  },
  {
   "cell_type": "code",
   "execution_count": 4,
   "metadata": {},
   "outputs": [],
   "source": [
    "df.to_csv(\"./소아청소년과_QNA.csv\", index = False, encoding = 'utf-8')"
   ]
  },
  {
   "cell_type": "code",
   "execution_count": null,
   "metadata": {},
   "outputs": [],
   "source": []
  }
 ],
 "metadata": {
  "kernelspec": {
   "display_name": "Python 3",
   "language": "python",
   "name": "python3"
  },
  "language_info": {
   "codemirror_mode": {
    "name": "ipython",
    "version": 3
   },
   "file_extension": ".py",
   "mimetype": "text/x-python",
   "name": "python",
   "nbconvert_exporter": "python",
   "pygments_lexer": "ipython3",
   "version": "3.11.7"
  }
 },
 "nbformat": 4,
 "nbformat_minor": 2
}
